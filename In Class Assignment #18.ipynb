{
 "cells": [
  {
   "cell_type": "code",
   "execution_count": 110,
   "id": "03e9945e",
   "metadata": {},
   "outputs": [],
   "source": [
    "import numpy as np"
   ]
  },
  {
   "cell_type": "code",
   "execution_count": 111,
   "id": "163f4c77",
   "metadata": {},
   "outputs": [],
   "source": [
    "K = 3 #clusters\n",
    "X = np.array([[2,10], [2,5], [8,4], [5,8], [7,5], [6,4], [1,2], [4,9]])\n",
    "initial_centroids = np.array([[2,10], [5,8], [1,2]])"
   ]
  },
  {
   "cell_type": "code",
   "execution_count": 119,
   "id": "66afef59",
   "metadata": {},
   "outputs": [],
   "source": [
    "def find_closest_centroid(X, centroids): # Associate elements to centroid\n",
    "    idx = np.zeros((X.shape[0],1))\n",
    "    for i in range(X.shape[0]):\n",
    "        idx[i] = np.argmin(np.sqrt(np.sum((X[i, :] - centroids) ** 2, axis=1))) + 1 # Calculating Euclidean distance\n",
    "    return idx"
   ]
  },
  {
   "cell_type": "code",
   "execution_count": 120,
   "id": "4eb43469",
   "metadata": {},
   "outputs": [
    {
     "name": "stdout",
     "output_type": "stream",
     "text": [
      "8\n",
      "[[0.]\n",
      " [0.]\n",
      " [0.]\n",
      " [0.]\n",
      " [0.]\n",
      " [0.]\n",
      " [0.]\n",
      " [0.]]\n",
      "range(0, 8)\n"
     ]
    }
   ],
   "source": [
    "#testing\n",
    "print(X.shape[0])\n",
    "print(np.zeros((X.shape[0], 1)))\n",
    "print(range(X.shape[0]))"
   ]
  },
  {
   "cell_type": "code",
   "execution_count": 121,
   "id": "557bff59",
   "metadata": {},
   "outputs": [
    {
     "name": "stdout",
     "output_type": "stream",
     "text": [
      "X [ 2 10] cluster [1.]\n",
      "X [2 5] cluster [3.]\n",
      "X [8 4] cluster [2.]\n",
      "X [5 8] cluster [2.]\n",
      "X [7 5] cluster [2.]\n",
      "X [6 4] cluster [2.]\n",
      "X [1 2] cluster [3.]\n",
      "X [4 9] cluster [2.]\n"
     ]
    }
   ],
   "source": [
    "###Initial Assignment\n",
    "clusters = find_closest_centroid(X, initial_centroids)\n",
    "for i in range(X.shape[0]):\n",
    "    print('X {} cluster {}'.format(X[i], clusters[i]))"
   ]
  },
  {
   "cell_type": "code",
   "execution_count": 122,
   "id": "5f18ec59",
   "metadata": {},
   "outputs": [],
   "source": [
    "####Computing new centroids"
   ]
  },
  {
   "cell_type": "code",
   "execution_count": 123,
   "id": "4500f391",
   "metadata": {},
   "outputs": [],
   "source": [
    "def compute_centroids(X, idx, K):\n",
    "    centroids = np.zeros((K, X.shape[1]))\n",
    "    for i in range(K):\n",
    "        centroids[i,:] = np.mean(X[(idx==i+1).T[0], :], axis=0)\n",
    "    return centroids"
   ]
  },
  {
   "cell_type": "code",
   "execution_count": 124,
   "id": "cda020ae",
   "metadata": {},
   "outputs": [
    {
     "name": "stdout",
     "output_type": "stream",
     "text": [
      "[[ 2.  10. ]\n",
      " [ 6.   6. ]\n",
      " [ 1.5  3.5]]\n",
      "X [ 2 10] cluster [1.]\n",
      "X [2 5] cluster [3.]\n",
      "X [8 4] cluster [2.]\n",
      "X [5 8] cluster [2.]\n",
      "X [7 5] cluster [2.]\n",
      "X [6 4] cluster [2.]\n",
      "X [1 2] cluster [3.]\n",
      "X [4 9] cluster [2.]\n"
     ]
    }
   ],
   "source": [
    "new_centroids = compute_centroids(X, clusters, K)\n",
    "print(new_centroids)\n",
    "clusters = find_closest_centroid(X, initial_centroids)\n",
    "for i in range(X.shape[0]):\n",
    "    print('X {} cluster {}'.format(X[i], clusters[i]))"
   ]
  },
  {
   "cell_type": "code",
   "execution_count": 125,
   "id": "a22bc222",
   "metadata": {},
   "outputs": [
    {
     "name": "stdout",
     "output_type": "stream",
     "text": [
      "[[ 2.  10. ]\n",
      " [ 6.   6. ]\n",
      " [ 1.5  3.5]]\n",
      "X [ 2 10] cluster [1.]\n",
      "X [2 5] cluster [3.]\n",
      "X [8 4] cluster [2.]\n",
      "X [5 8] cluster [2.]\n",
      "X [7 5] cluster [2.]\n",
      "X [6 4] cluster [2.]\n",
      "X [1 2] cluster [3.]\n",
      "X [4 9] cluster [2.]\n"
     ]
    }
   ],
   "source": [
    "new_centroids = compute_centroids(X, clusters, K)\n",
    "print(new_centroids)\n",
    "clusters = find_closest_centroid(X, initial_centroids)\n",
    "for i in range(X.shape[0]):\n",
    "    print('X {} cluster {}'.format(X[i], clusters[i]))"
   ]
  },
  {
   "cell_type": "code",
   "execution_count": null,
   "id": "504a1c1e",
   "metadata": {},
   "outputs": [],
   "source": []
  },
  {
   "cell_type": "code",
   "execution_count": null,
   "id": "ad9964a9",
   "metadata": {},
   "outputs": [],
   "source": []
  },
  {
   "cell_type": "code",
   "execution_count": null,
   "id": "6dff4e1b",
   "metadata": {},
   "outputs": [],
   "source": []
  }
 ],
 "metadata": {
  "kernelspec": {
   "display_name": "Python 3 (ipykernel)",
   "language": "python",
   "name": "python3"
  },
  "language_info": {
   "codemirror_mode": {
    "name": "ipython",
    "version": 3
   },
   "file_extension": ".py",
   "mimetype": "text/x-python",
   "name": "python",
   "nbconvert_exporter": "python",
   "pygments_lexer": "ipython3",
   "version": "3.9.13"
  }
 },
 "nbformat": 4,
 "nbformat_minor": 5
}
