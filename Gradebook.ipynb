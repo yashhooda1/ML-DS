{
 "cells": [
  {
   "cell_type": "code",
   "execution_count": 1,
   "id": "071b9195",
   "metadata": {},
   "outputs": [
    {
     "name": "stdout",
     "output_type": "stream",
     "text": [
      "[['physics', 98], ['calculus', 97], ['poetry', 85], ['history', 88]]\n",
      " \n",
      "[['physics', 98], ['calculus', 97], ['poetry', 'Pass'], ['history', 88], ['computer science', 100], ['visual arts', 98]]\n",
      " \n",
      "[['politics', 80], ['latin', 96], ['dance', 97], ['architecture', 65], ['physics', 98], ['calculus', 97], ['poetry', 'Pass'], ['history', 88], ['computer science', 100], ['visual arts', 98]]\n"
     ]
    }
   ],
   "source": [
    "#Author: Yash Hooda\n",
    "#Date Created: 01/27/2023\n",
    "#Project Name: Gradebook\n",
    "#The purpose of the project is to use arrays in python to organize subjects and grades using Python in a standard gradebook.\n",
    "\n",
    "#last semester grades\n",
    "last_semester_gradebook = [[\"politics\", 80], [\"latin\", 96], [\"dance\", 97], [\"architecture\", 65]]\n",
    " \n",
    "#list subjects\n",
    "subjects = [\"physics\", \"calculus\", \"poetry\", \"history\"]\n",
    "\n",
    "#list grades\n",
    "grades = [98, 97, 85, 88]\n",
    "\n",
    "#create 2d array of current grades\n",
    "gradebook = [[\"physics\", 98], [\"calculus\", 97], [\"poetry\", 85], [\"history\", 88]]\n",
    "\n",
    "#print current grades before making changes\n",
    "print(gradebook)\n",
    "\n",
    "#skip line\n",
    "print(\" \")\n",
    "\n",
    "#add computer science grade\n",
    "gradebook.append([\"computer science\", 100])\n",
    "\n",
    "#add visual arts grade\n",
    "gradebook.append([\"visual arts\", 93])\n",
    "\n",
    "#modify visual arts grade to 5 points greater\n",
    "gradebook[5][1] = 98\n",
    "\n",
    "#switch to pass/fail grade option for poetry class\n",
    "gradebook[2].remove(85)\n",
    "gradebook[2].append(\"Pass\")\n",
    "\n",
    "#print grades after modification\n",
    "print(gradebook)\n",
    "print(\" \")\n",
    "\n",
    "#combine grades from last semester and this semester to print full gradebook\n",
    "full_gradebook = last_semester_gradebook + gradebook\n",
    "print(full_gradebook)\n",
    "\n"
   ]
  },
  {
   "cell_type": "code",
   "execution_count": null,
   "id": "7ef63c67",
   "metadata": {},
   "outputs": [],
   "source": []
  }
 ],
 "metadata": {
  "kernelspec": {
   "display_name": "Python 3 (ipykernel)",
   "language": "python",
   "name": "python3"
  },
  "language_info": {
   "codemirror_mode": {
    "name": "ipython",
    "version": 3
   },
   "file_extension": ".py",
   "mimetype": "text/x-python",
   "name": "python",
   "nbconvert_exporter": "python",
   "pygments_lexer": "ipython3",
   "version": "3.9.13"
  }
 },
 "nbformat": 4,
 "nbformat_minor": 5
}
