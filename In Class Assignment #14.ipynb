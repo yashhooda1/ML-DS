{
 "cells": [
  {
   "cell_type": "code",
   "execution_count": 1,
   "id": "dff72357",
   "metadata": {},
   "outputs": [],
   "source": [
    "import numpy as np\n",
    "\n",
    "#Transitional Probabilities\n",
    "p_sun_sun = 0.8 \n",
    "p_sun_rain = 0.2\n",
    "p_rain_sun = 0.4\n",
    "p_rain_rain = 0.6\n",
    "\n",
    "#Initial Probabilities\n",
    "p_sunny = 0.67\n",
    "p_rain = 0.33\n",
    "\n",
    "#Emission Probabilities\n",
    "p_sun_yes = 0.8\n",
    "p_sun_no = 0.2\n",
    "p_rain_yes = 0.4\n",
    "p_rain_no = 0.6\n",
    "\n",
    "# we can also use the matrix below\n",
    "# transition = np.array([[0.8, 0.2], [0.4, 0.6]])\n",
    "# emission = np.array([[0.8, 0.2], [0.4, 0.6]])"
   ]
  },
  {
   "cell_type": "code",
   "execution_count": 2,
   "id": "0d26eff8",
   "metadata": {},
   "outputs": [],
   "source": [
    "#Given\n",
    "played_golf = ['Y', 'Y', 'N', 'N', 'N', 'Y']"
   ]
  },
  {
   "cell_type": "code",
   "execution_count": 4,
   "id": "43d9d847",
   "metadata": {},
   "outputs": [
    {
     "name": "stdout",
     "output_type": "stream",
     "text": [
      "(0.536, 0.132)\n",
      "(0.536, 0.132)\n"
     ]
    }
   ],
   "source": [
    "prob = []\n",
    "weather = []\n",
    "\n",
    "if played_golf[0] == 'Y':\n",
    "    prob.append((p_sunny*p_sun_yes, p_rain*p_rain_yes))\n",
    "else:\n",
    "    prob.append((p_sunny*p_sun_no, p_rain*p_rain_no))\n",
    "    \n",
    "print(prob[0])\n",
    "print(prob[-1])"
   ]
  },
  {
   "cell_type": "code",
   "execution_count": 8,
   "id": "7add6429",
   "metadata": {},
   "outputs": [
    {
     "data": {
      "text/plain": [
       "['S',\n",
       " 'S',\n",
       " 'S',\n",
       " 'R',\n",
       " 'R',\n",
       " 'S',\n",
       " 'S',\n",
       " 'S',\n",
       " 'S',\n",
       " 'R',\n",
       " 'R',\n",
       " 'S',\n",
       " 'S',\n",
       " 'S',\n",
       " 'S',\n",
       " 'R',\n",
       " 'R',\n",
       " 'S',\n",
       " 'S',\n",
       " 'S',\n",
       " 'S',\n",
       " 'S',\n",
       " 'R',\n",
       " 'R',\n",
       " 'S',\n",
       " 'S',\n",
       " 'S',\n",
       " 'S',\n",
       " 'R',\n",
       " 'R',\n",
       " 'S',\n",
       " 'S',\n",
       " 'S',\n",
       " 'S',\n",
       " 'S',\n",
       " 'R',\n",
       " 'R',\n",
       " 'S',\n",
       " 'S']"
      ]
     },
     "execution_count": 8,
     "metadata": {},
     "output_type": "execute_result"
    }
   ],
   "source": [
    "for i in range(1, len(played_golf)):\n",
    "    yest_sunny, yest_rainy = prob[-1]\n",
    "    if played_golf[i] == 'Y':\n",
    "        today_sunny = max(yest_sunny*p_sun_sun*p_sun_yes, yest_rainy*p_rain_sun*p_sun_yes)\n",
    "        today_rainy = max(yest_sunny*p_sun_rain*p_rain_yes, yest_rainy*p_rain_rain*p_rain_yes)\n",
    "        prob.append((today_sunny, today_rainy))\n",
    "    else:\n",
    "        today_sunny = max(yest_sunny*p_sun_sun*p_sun_no, yest_rainy*p_rain_sun*p_sun_no)\n",
    "        today_rainy = max(yest_sunny*p_sun_rain*p_rain_no, yest_rainy*p_rain_rain*p_rain_no)\n",
    "    prob.append((today_sunny, today_rainy))\n",
    "        \n",
    "for p in prob:\n",
    "    if p[0] > p[1]:\n",
    "        weather.append('S')\n",
    "    else:\n",
    "        weather.append('R')\n",
    "        \n",
    "weather\n",
    "    "
   ]
  },
  {
   "cell_type": "code",
   "execution_count": null,
   "id": "b37a4723",
   "metadata": {},
   "outputs": [],
   "source": []
  }
 ],
 "metadata": {
  "kernelspec": {
   "display_name": "Python 3 (ipykernel)",
   "language": "python",
   "name": "python3"
  },
  "language_info": {
   "codemirror_mode": {
    "name": "ipython",
    "version": 3
   },
   "file_extension": ".py",
   "mimetype": "text/x-python",
   "name": "python",
   "nbconvert_exporter": "python",
   "pygments_lexer": "ipython3",
   "version": "3.9.13"
  }
 },
 "nbformat": 4,
 "nbformat_minor": 5
}
